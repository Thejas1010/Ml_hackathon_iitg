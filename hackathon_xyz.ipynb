{
 "cells": [
  {
   "cell_type": "code",
   "execution_count": 16,
   "id": "fc5d8ae3",
   "metadata": {},
   "outputs": [],
   "source": [
    "import pandas as pd\n",
    "import numpy as np\n",
    "import math\n"
   ]
  },
  {
   "cell_type": "code",
   "execution_count": 17,
   "id": "54d190b5",
   "metadata": {},
   "outputs": [],
   "source": [
    "data = pd.read_csv(\"training_set_features.csv\")\n",
    "new_data = data.drop(['education', 'race', 'income_poverty', 'health_insurance', 'sex', 'age_group'], axis=1) #removing unnecesary features which is not required\n",
    "ans = pd.read_csv('training_set_labels.csv') \n",
    "df = pd.merge(ans, new_data, on='respondent_id')\n"
   ]
  },
  {
   "cell_type": "code",
   "execution_count": 18,
   "id": "a2076de2",
   "metadata": {},
   "outputs": [],
   "source": [
    "#filling empty data\n",
    "df.fillna(method='ffill', inplace=True)\n"
   ]
  },
  {
   "cell_type": "code",
   "execution_count": 19,
   "id": "58bd6f6c",
   "metadata": {},
   "outputs": [],
   "source": [
    "feature_columns = df.loc[:, 'xyz_concern':'opinion_xyz_sick_from_vacc'].columns.difference(['doctor_recc_seasonal'])\n",
    "target_column = 'xyz_vaccine'\n",
    "X_train = df[feature_columns].values\n",
    "y_train = df[target_column].values"
   ]
  },
  {
   "cell_type": "code",
   "execution_count": 20,
   "id": "f7643182",
   "metadata": {},
   "outputs": [],
   "source": [
    "def sigmoid(z):\n",
    "    return 1 / (1 + np.exp(-z))\n",
    "\n",
    "def predict(X, w, b):\n",
    "    z = np.dot(X, w) + b\n",
    "    probabilities = sigmoid(z)\n",
    "    return probabilities\n",
    "    \n",
    "    #return (sigmoid(z) >= 0.5).astype(int)  comment out this to get training accuracy"
   ]
  },
  {
   "cell_type": "code",
   "execution_count": 21,
   "id": "b5dd2c83",
   "metadata": {},
   "outputs": [],
   "source": [
    "def compute_cost(X, y, w, b, lambda_=0):\n",
    "    m = len(y)\n",
    "    h = sigmoid(np.dot(X, w) + b)\n",
    "    cost = (-1 / m) * np.sum(y * np.log(h) + (1 - y) * np.log(1 - h)) + (lambda_ / (2 * m)) * np.sum(w**2)\n",
    "    return cost\n",
    "\n",
    "def compute_gradient(X, y, w, b, lambda_=0):\n",
    "    m = len(y)\n",
    "    h = sigmoid(np.dot(X, w) + b)\n",
    "    grad_w = (1 / m) * np.dot(X.T, (h - y)) + (lambda_ / m) * w\n",
    "    grad_b = (1 / m) * np.sum(h - y)\n",
    "    return grad_w, grad_b\n"
   ]
  },
  {
   "cell_type": "code",
   "execution_count": 22,
   "id": "7766f1ec",
   "metadata": {},
   "outputs": [],
   "source": [
    "def gradient_descent(X, y, w, b, cost_function, gradient_function, alpha, iterations, lambda_=0):\n",
    "    m = len(y)\n",
    "    J_history = []\n",
    "    for i in range(iterations):\n",
    "        grad_w, grad_b = gradient_function(X, y, w, b, lambda_)\n",
    "        w = w - alpha * grad_w\n",
    "        b = b - alpha * grad_b\n",
    "        cost = cost_function(X, y, w, b, lambda_)\n",
    "        J_history.append(cost)\n",
    "        if i % (iterations // 10) == 0:\n",
    "            print(f\"Iteration {i}: Cost {cost}\")\n",
    "    return w, b, J_history"
   ]
  },
  {
   "cell_type": "code",
   "execution_count": 23,
   "id": "37833722",
   "metadata": {},
   "outputs": [
    {
     "name": "stdout",
     "output_type": "stream",
     "text": [
      "Iteration 0: Cost 0.643206085456737\n",
      "Iteration 4000: Cost 0.42772104785207526\n",
      "Iteration 8000: Cost 0.41237949446324257\n",
      "Iteration 12000: Cost 0.4058303560316817\n",
      "Iteration 16000: Cost 0.40261570928495344\n",
      "Iteration 20000: Cost 0.4009242469676245\n",
      "Iteration 24000: Cost 0.39999329372550335\n",
      "Iteration 28000: Cost 0.39946472537684047\n",
      "Iteration 32000: Cost 0.3991578608234766\n",
      "Iteration 36000: Cost 0.3989767757677262\n",
      "Train Accuracy: 0.0%\n"
     ]
    }
   ],
   "source": [
    "np.random.seed(1)\n",
    "initial_w = 0.01 * np.random.randn(X_train.shape[1])\n",
    "initial_b = 0\n",
    "iterations = 40000\n",
    "alpha = 0.02\n",
    "lambda_ = 0\n",
    "w, b, J_history = gradient_descent(X_train, y_train, initial_w, initial_b, \n",
    "                                       compute_cost, compute_gradient, alpha, iterations, lambda_)\n",
    "predictions = predict(X_train, w, b)\n",
    "train_accuracy = np.mean(predictions == y_train) * 100\n",
    "print(f\"Train Accuracy: {train_accuracy}%\")\n"
   ]
  },
  {
   "cell_type": "code",
   "execution_count": 24,
   "id": "62ea0b3b",
   "metadata": {},
   "outputs": [
    {
     "name": "stdout",
     "output_type": "stream",
     "text": [
      "[ 0.06828622 -0.03026339  0.17137531 -0.19096359 -0.03720872  0.03430393\n",
      " -0.0171833   0.17950374  0.16094119  1.54140411  0.72965089  0.41493688\n",
      " -0.0541599   0.61424145 -0.07302411  0.18250441] -5.411713744029924\n"
     ]
    }
   ],
   "source": [
    "print(w,b)"
   ]
  },
  {
   "cell_type": "code",
   "execution_count": 25,
   "id": "7aa702a4",
   "metadata": {},
   "outputs": [],
   "source": [
    "w = w.reshape(-1,1)"
   ]
  },
  {
   "cell_type": "code",
   "execution_count": 26,
   "id": "599322a6",
   "metadata": {},
   "outputs": [],
   "source": [
    "test_df = pd.read_csv(\"test_set_features.csv\")\n",
    "new_test_df = data.drop(['education', 'race', 'income_poverty', 'health_insurance', 'sex', 'age_group'], axis=1)\n",
    "\n",
    "new_test_df.fillna(method='ffill', inplace=True)"
   ]
  },
  {
   "cell_type": "code",
   "execution_count": 27,
   "id": "69d2ecae",
   "metadata": {},
   "outputs": [],
   "source": [
    "feature_values = df.loc[:, 'xyz_concern':'opinion_xyz_sick_from_vacc'].columns.difference(['doctor_recc_seasonal'])\n",
    "X_test = new_test_df[feature_columns].values"
   ]
  },
  {
   "cell_type": "code",
   "execution_count": 28,
   "id": "41910930",
   "metadata": {},
   "outputs": [
    {
     "name": "stdout",
     "output_type": "stream",
     "text": [
      "[[0.03428035]\n",
      " [0.30963772]\n",
      " [0.04889012]\n",
      " ...\n",
      " [0.22844885]\n",
      " [0.04234699]\n",
      " [0.11815772]]\n"
     ]
    }
   ],
   "source": [
    "Y_prediction_xyz = predict(X_test, w, b)\n",
    "print(Y_prediction_xyz)"
   ]
  },
  {
   "cell_type": "code",
   "execution_count": 29,
   "id": "885649fa",
   "metadata": {},
   "outputs": [],
   "source": [
    "final_xyz = pd.DataFrame(Y_prediction_xyz)\n",
    "final_xyz.columns = ['xyz_vaccine']"
   ]
  },
  {
   "cell_type": "code",
   "execution_count": 30,
   "id": "d78bf2c7",
   "metadata": {},
   "outputs": [],
   "source": [
    "final_xyz\n",
    "final_xyz.to_excel('output1.xlsx', index=False)  \n"
   ]
  },
  {
   "cell_type": "code",
   "execution_count": null,
   "id": "c3e182ce",
   "metadata": {},
   "outputs": [],
   "source": []
  },
  {
   "cell_type": "code",
   "execution_count": null,
   "id": "fd53ba01",
   "metadata": {},
   "outputs": [],
   "source": []
  }
 ],
 "metadata": {
  "kernelspec": {
   "display_name": "Python 3 (ipykernel)",
   "language": "python",
   "name": "python3"
  },
  "language_info": {
   "codemirror_mode": {
    "name": "ipython",
    "version": 3
   },
   "file_extension": ".py",
   "mimetype": "text/x-python",
   "name": "python",
   "nbconvert_exporter": "python",
   "pygments_lexer": "ipython3",
   "version": "3.11.5"
  }
 },
 "nbformat": 4,
 "nbformat_minor": 5
}

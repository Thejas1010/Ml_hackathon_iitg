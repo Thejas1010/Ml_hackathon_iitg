{
 "cells": [
  {
   "cell_type": "code",
   "execution_count": 1,
   "id": "fc5d8ae3",
   "metadata": {},
   "outputs": [
    {
     "name": "stdout",
     "output_type": "stream",
     "text": [
      "Iteration 0: Cost 0.6558326087474673\n",
      "Iteration 4000: Cost 0.428063450766539\n",
      "Iteration 8000: Cost 0.4115136130940572\n",
      "Iteration 12000: Cost 0.4048523969682825\n",
      "Iteration 16000: Cost 0.40165198749281733\n",
      "Iteration 20000: Cost 0.3999771391178044\n",
      "Iteration 24000: Cost 0.39905580318027256\n",
      "Iteration 28000: Cost 0.3985322327652762\n",
      "Iteration 32000: Cost 0.3982279034786218\n",
      "Iteration 36000: Cost 0.3980480950664137\n",
      "Train Accuracy: 82.71239749878309%\n"
     ]
    }
   ],
   "source": [
    "import pandas as pd\n",
    "import numpy as np\n",
    "import math\n",
    "\n",
    "\n",
    "data = pd.read_csv(\"training_set_features.csv\")\n",
    "new_data = data.drop(['education', 'race', 'income_poverty', 'health_insurance', 'sex', 'age_group'], axis=1) #removing unnecesary features which is not required\n",
    "ans = pd.read_csv('training_set_labels.csv') \n",
    "df = pd.merge(ans, new_data, on='respondent_id')\n",
    "\n",
    "#filling empty data\n",
    "df.fillna(method='ffill', inplace=True)\n",
    "\n",
    "\n",
    "feature_columns = df.loc[:, 'xyz_concern':'opinion_xyz_sick_from_vacc'].columns\n",
    "target_column = 'xyz_vaccine'\n",
    "X_train = df[feature_columns].values\n",
    "y_train = df[target_column].values\n",
    "    \n",
    "\n",
    "def sigmoid(z):\n",
    "    return 1 / (1 + np.exp(-z))\n",
    "\n",
    "def predict(X, w, b):\n",
    "    z = np.dot(X, w) + b\n",
    "    return (sigmoid(z) >= 0.5).astype(int)\n",
    "\n",
    "def compute_cost(X, y, w, b, lambda_=0):\n",
    "    m = len(y)\n",
    "    h = sigmoid(np.dot(X, w) + b)\n",
    "    cost = (-1 / m) * np.sum(y * np.log(h) + (1 - y) * np.log(1 - h)) + (lambda_ / (2 * m)) * np.sum(w**2)\n",
    "    return cost\n",
    "\n",
    "def compute_gradient(X, y, w, b, lambda_=0):\n",
    "    m = len(y)\n",
    "    h = sigmoid(np.dot(X, w) + b)\n",
    "    grad_w = (1 / m) * np.dot(X.T, (h - y)) + (lambda_ / m) * w\n",
    "    grad_b = (1 / m) * np.sum(h - y)\n",
    "    return grad_w, grad_b\n",
    "\n",
    "def gradient_descent(X, y, w, b, cost_function, gradient_function, alpha, iterations, lambda_=0):\n",
    "    m = len(y)\n",
    "    J_history = []\n",
    "    for i in range(iterations):\n",
    "        grad_w, grad_b = gradient_function(X, y, w, b, lambda_)\n",
    "        w = w - alpha * grad_w\n",
    "        b = b - alpha * grad_b\n",
    "        cost = cost_function(X, y, w, b, lambda_)\n",
    "        J_history.append(cost)\n",
    "        if i % (iterations // 10) == 0:\n",
    "            print(f\"Iteration {i}: Cost {cost}\")\n",
    "    return w, b, J_history\n",
    "\n",
    "np.random.seed(1)\n",
    "initial_w = 0.01 * np.random.randn(X_train.shape[1])\n",
    "initial_b = 0\n",
    "iterations = 40000\n",
    "alpha = 0.02\n",
    "lambda_ = 0\n",
    "w, b, J_history = gradient_descent(X_train, y_train, initial_w, initial_b, \n",
    "                                       compute_cost, compute_gradient, alpha, iterations, lambda_)\n",
    "predictions = predict(X_train, w, b)\n",
    "train_accuracy = np.mean(predictions == y_train) * 100\n",
    "print(f\"Train Accuracy: {train_accuracy}%\")\n",
    "\n",
    "   "
   ]
  },
  {
   "cell_type": "code",
   "execution_count": null,
   "id": "54d190b5",
   "metadata": {},
   "outputs": [],
   "source": []
  }
 ],
 "metadata": {
  "kernelspec": {
   "display_name": "Python 3 (ipykernel)",
   "language": "python",
   "name": "python3"
  },
  "language_info": {
   "codemirror_mode": {
    "name": "ipython",
    "version": 3
   },
   "file_extension": ".py",
   "mimetype": "text/x-python",
   "name": "python",
   "nbconvert_exporter": "python",
   "pygments_lexer": "ipython3",
   "version": "3.11.5"
  }
 },
 "nbformat": 4,
 "nbformat_minor": 5
}

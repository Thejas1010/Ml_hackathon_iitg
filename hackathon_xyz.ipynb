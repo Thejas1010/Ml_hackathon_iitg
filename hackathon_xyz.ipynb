{
 "cells": [
  {
   "cell_type": "code",
   "execution_count": 14,
   "id": "fc5d8ae3",
   "metadata": {},
   "outputs": [],
   "source": [
    "import pandas as pd\n",
    "import numpy as np\n",
    "import math\n"
   ]
  },
  {
   "cell_type": "code",
   "execution_count": 15,
   "id": "54d190b5",
   "metadata": {},
   "outputs": [],
   "source": [
    "data = pd.read_csv(\"training_set_features.csv\")\n",
    "new_data = data.drop(['education', 'race', 'income_poverty', 'health_insurance', 'sex', 'age_group'], axis=1) #removing unnecesary features which is not required\n",
    "ans = pd.read_csv('training_set_labels.csv') \n",
    "df = pd.merge(ans, new_data, on='respondent_id')\n"
   ]
  },
  {
   "cell_type": "code",
   "execution_count": 16,
   "id": "a2076de2",
   "metadata": {},
   "outputs": [],
   "source": [
    "#filling empty data\n",
    "df.fillna(method='ffill', inplace=True)\n"
   ]
  },
  {
   "cell_type": "code",
   "execution_count": 17,
   "id": "58bd6f6c",
   "metadata": {},
   "outputs": [],
   "source": [
    "feature_columns = df.loc[:, 'xyz_concern':'opinion_xyz_sick_from_vacc'].columns\n",
    "target_column = 'xyz_vaccine'\n",
    "X_train = df[feature_columns].values\n",
    "y_train = df[target_column].values"
   ]
  },
  {
   "cell_type": "code",
   "execution_count": 18,
   "id": "f7643182",
   "metadata": {},
   "outputs": [],
   "source": [
    "def sigmoid(z):\n",
    "    return 1 / (1 + np.exp(-z))\n",
    "\n",
    "def predict(X, w, b):\n",
    "    z = np.dot(X, w) + b\n",
    "    probabilities = sigmoid(z)\n",
    "    return probabilities\n",
    "    \n",
    "    return (sigmoid(z) >= 0.5).astype(int)  "
   ]
  },
  {
   "cell_type": "code",
   "execution_count": 19,
   "id": "b5dd2c83",
   "metadata": {},
   "outputs": [],
   "source": [
    "def compute_cost(X, y, w, b, lambda_=0):\n",
    "    m = len(y)\n",
    "    h = sigmoid(np.dot(X, w) + b)\n",
    "    cost = (-1 / m) * np.sum(y * np.log(h) + (1 - y) * np.log(1 - h)) + (lambda_ / (2 * m)) * np.sum(w**2)\n",
    "    return cost\n",
    "\n",
    "def compute_gradient(X, y, w, b, lambda_=0):\n",
    "    m = len(y)\n",
    "    h = sigmoid(np.dot(X, w) + b)\n",
    "    grad_w = (1 / m) * np.dot(X.T, (h - y)) + (lambda_ / m) * w\n",
    "    grad_b = (1 / m) * np.sum(h - y)\n",
    "    return grad_w, grad_b\n"
   ]
  },
  {
   "cell_type": "code",
   "execution_count": 20,
   "id": "7766f1ec",
   "metadata": {},
   "outputs": [],
   "source": [
    "def gradient_descent(X, y, w, b, cost_function, gradient_function, alpha, iterations, lambda_=0):\n",
    "    m = len(y)\n",
    "    J_history = []\n",
    "    for i in range(iterations):\n",
    "        grad_w, grad_b = gradient_function(X, y, w, b, lambda_)\n",
    "        w = w - alpha * grad_w\n",
    "        b = b - alpha * grad_b\n",
    "        cost = cost_function(X, y, w, b, lambda_)\n",
    "        J_history.append(cost)\n",
    "        if i % (iterations // 10) == 0:\n",
    "            print(f\"Iteration {i}: Cost {cost}\")\n",
    "    return w, b, J_history"
   ]
  },
  {
   "cell_type": "code",
   "execution_count": 21,
   "id": "37833722",
   "metadata": {},
   "outputs": [
    {
     "name": "stdout",
     "output_type": "stream",
     "text": [
      "Iteration 0: Cost 0.6558326087474673\n",
      "Iteration 4000: Cost 0.428063450766539\n",
      "Iteration 8000: Cost 0.4115136130940572\n",
      "Iteration 12000: Cost 0.4048523969682825\n",
      "Iteration 16000: Cost 0.40165198749281733\n",
      "Iteration 20000: Cost 0.3999771391178044\n",
      "Iteration 24000: Cost 0.39905580318027256\n",
      "Iteration 28000: Cost 0.3985322327652762\n",
      "Iteration 32000: Cost 0.3982279034786218\n",
      "Iteration 36000: Cost 0.3980480950664137\n",
      "Train Accuracy: 0.0%\n"
     ]
    }
   ],
   "source": [
    "np.random.seed(1)\n",
    "initial_w = 0.01 * np.random.randn(X_train.shape[1])\n",
    "initial_b = 0\n",
    "iterations = 40000\n",
    "alpha = 0.02\n",
    "lambda_ = 0\n",
    "w, b, J_history = gradient_descent(X_train, y_train, initial_w, initial_b, \n",
    "                                       compute_cost, compute_gradient, alpha, iterations, lambda_)\n",
    "predictions = predict(X_train, w, b)\n",
    "train_accuracy = np.mean(predictions == y_train) * 100\n",
    "print(f\"Train Accuracy: {train_accuracy}%\")\n"
   ]
  },
  {
   "cell_type": "code",
   "execution_count": 22,
   "id": "62ea0b3b",
   "metadata": {},
   "outputs": [
    {
     "name": "stdout",
     "output_type": "stream",
     "text": [
      "[-0.07001288  0.18918463  0.06780784 -0.03086725  0.17178852 -0.00858609\n",
      " -0.18902521 -0.03278924  0.04119461  1.76750706 -0.3381563   0.19332028\n",
      "  0.17614056  0.7291429   0.61690728  0.41372415 -0.05613618] -5.393633781860206\n"
     ]
    }
   ],
   "source": [
    "print(w,b)"
   ]
  },
  {
   "cell_type": "code",
   "execution_count": 23,
   "id": "7aa702a4",
   "metadata": {},
   "outputs": [],
   "source": [
    "w = w.reshape(-1,1)"
   ]
  },
  {
   "cell_type": "code",
   "execution_count": 24,
   "id": "599322a6",
   "metadata": {},
   "outputs": [],
   "source": [
    "test_df = pd.read_csv(\"test_set_features.csv\")\n",
    "new_test_df = data.drop(['education', 'race', 'income_poverty', 'health_insurance', 'sex', 'age_group'], axis=1)\n",
    "\n",
    "new_test_df.fillna(method='ffill', inplace=True)"
   ]
  },
  {
   "cell_type": "code",
   "execution_count": 25,
   "id": "69d2ecae",
   "metadata": {},
   "outputs": [],
   "source": [
    "feature_values = df.loc[:, 'xyz_concern':'opinion_xyz_sick_from_vacc'].columns\n",
    "X_test = new_test_df[feature_columns].values"
   ]
  },
  {
   "cell_type": "code",
   "execution_count": 28,
   "id": "41910930",
   "metadata": {},
   "outputs": [
    {
     "name": "stdout",
     "output_type": "stream",
     "text": [
      "[[0.0354661 ]\n",
      " [0.32268434]\n",
      " [0.051971  ]\n",
      " ...\n",
      " [0.23857057]\n",
      " [0.04389389]\n",
      " [0.12106571]]\n"
     ]
    }
   ],
   "source": [
    "Y_prediction_xyz = predict(X_test, w, b)\n",
    "print(Y_prediction_xyz)"
   ]
  },
  {
   "cell_type": "code",
   "execution_count": 29,
   "id": "885649fa",
   "metadata": {},
   "outputs": [],
   "source": [
    "final_xyz = pd.DataFrame(Y_prediction_xyz)\n",
    "final_xyz.columns = ['xyz_vaccine']"
   ]
  },
  {
   "cell_type": "code",
   "execution_count": 31,
   "id": "d78bf2c7",
   "metadata": {},
   "outputs": [],
   "source": [
    "final_xyz\n",
    "final_xyz.to_excel('output1.xlsx', index=False)  \n"
   ]
  },
  {
   "cell_type": "code",
   "execution_count": null,
   "id": "c3e182ce",
   "metadata": {},
   "outputs": [],
   "source": []
  }
 ],
 "metadata": {
  "kernelspec": {
   "display_name": "Python 3 (ipykernel)",
   "language": "python",
   "name": "python3"
  },
  "language_info": {
   "codemirror_mode": {
    "name": "ipython",
    "version": 3
   },
   "file_extension": ".py",
   "mimetype": "text/x-python",
   "name": "python",
   "nbconvert_exporter": "python",
   "pygments_lexer": "ipython3",
   "version": "3.11.5"
  }
 },
 "nbformat": 4,
 "nbformat_minor": 5
}
